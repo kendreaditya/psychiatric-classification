{
 "cells": [
  {
   "cell_type": "code",
   "execution_count": 5,
   "metadata": {},
   "outputs": [],
   "source": [
    "# ADHD (class:0) Pre-Processing\n",
    "import numpy as np\n",
    "import matplotlib.pyplot as plt\n",
    "import os\n",
    "from time import time\n",
    "from tqdm import tqdm"
   ]
  },
  {
   "cell_type": "code",
   "execution_count": 6,
   "metadata": {},
   "outputs": [],
   "source": [
    "# Local modules\n",
    "from data_handler import data_handler\n",
    "ORGIN_PATH = \"C:/OneDrive - Cumberland Valley School District/EEG ScienceFair\"\n",
    "\n",
    "def batcher(array):\n",
    "    if len(BATCH) == 99:\n",
    "        BATCH.append(array)\n",
    "        np.save(f'{BATCH_PATH}/raw{len(os.listdir(BATCH_PATH))}.npy', BATCH)\n",
    "        BATCH.clear()\n",
    "    else:\n",
    "        BATCH.append(array)"
   ]
  },
  {
   "cell_type": "code",
   "execution_count": 7,
   "metadata": {},
   "outputs": [],
   "source": [
    "CLASS_VALUE = {'ADHD':0, 'MDD':1, 'SCHIZO':2, 'NORM':3}['ADHD']\n",
    "rawNum = 0\n",
    "\n",
    "\n",
    "sfreq = 500\n",
    "LEN_SEC = 9 # Change length \n",
    "BUFF_SEC = 0.5\n",
    "\n",
    "LENGTH = int(LEN_SEC / (1/sfreq))\n",
    "BUFFER_ZONE = int(BUFF_SEC / (1/sfreq))\n",
    "BATCH_PATH = f\"{ORGIN_PATH}/database/pre-processed_data/raws/ADHD\"\n",
    "PATH = f\"{ORGIN_PATH}/database/ADHD/ADH0\""
   ]
  },
  {
   "cell_type": "code",
   "execution_count": null,
   "metadata": {},
   "outputs": [
    {
     "name": "stderr",
     "output_type": "stream",
     "text": [
      "\n",
      "  0%|                                                           | 0/9 [00:00<?, ?it/s]\u001b[A"
     ]
    },
    {
     "name": "stdout",
     "output_type": "stream",
     "text": [
      "<KeysViewHDF5 ['d1']>\n"
     ]
    }
   ],
   "source": [
    "dir = []\n",
    "for fn in os.listdir(PATH):\n",
    "    if fn[-3:]=='mat' and fn!='chan.mat':\n",
    "        dir.append(fn)\n",
    "    else:\n",
    "        continue\n",
    "\n",
    "BATCH = []\n",
    "\n",
    "for filename in tqdm(dir):\n",
    "    dl = data_handler(f\"{PATH}\\{filename}\", data_name=filename[:-4])    \n",
    "    epochs = dl.get_EEG()\n",
    "    \n",
    "    for trial in epochs:\n",
    "        data = np.transpose(trial) # shape: (5000, 56)\n",
    "        try:\n",
    "            for i in range(BUFFER_ZONE, len(data)-BUFFER_ZONE+LENGTH, LENGTH): # iterates by len\n",
    "                EEG = np.transpose(data[i:i+LENGTH]) # before shape (len, 56) : after shape (56, len)\n",
    "                batcher([EEG, [CLASS_VALUE]])\n",
    "        except Exception as e:\n",
    "            print(e)\n",
    "\n",
    "np.save(f'/raw{len(os.listdir(BATCH_PATH))}.npy', BATCH)"
   ]
  }
 ],
 "metadata": {
  "kernelspec": {
   "display_name": "Python 3",
   "language": "python",
   "name": "python3"
  },
  "language_info": {
   "codemirror_mode": {
    "name": "ipython",
    "version": 3
   },
   "file_extension": ".py",
   "mimetype": "text/x-python",
   "name": "python",
   "nbconvert_exporter": "python",
   "pygments_lexer": "ipython3",
   "version": "3.7.6"
  }
 },
 "nbformat": 4,
 "nbformat_minor": 4
}
